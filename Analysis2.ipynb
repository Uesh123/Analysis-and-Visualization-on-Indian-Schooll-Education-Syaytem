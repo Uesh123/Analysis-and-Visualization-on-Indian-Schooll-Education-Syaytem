{
 "cells": [
  {
   "cell_type": "code",
   "execution_count": null,
   "metadata": {},
   "outputs": [],
   "source": [
    "import pandas as pd\n",
    "import numpy as np\n",
    "import matplotlib.pyplot as plt\n",
    "from sklearn.impute import SimpleImputer"
   ]
  },
  {
   "cell_type": "code",
   "execution_count": null,
   "metadata": {},
   "outputs": [],
   "source": [
    "pd.set_option('display.max_columns',None)"
   ]
  },
  {
   "cell_type": "code",
   "execution_count": null,
   "metadata": {},
   "outputs": [],
   "source": [
    "df=pd.read_csv('data/gross-enrollment-ratio-2013-2016.csv')"
   ]
  },
  {
   "cell_type": "code",
   "execution_count": null,
   "metadata": {},
   "outputs": [],
   "source": [
    "df.head()"
   ]
  },
  {
   "cell_type": "code",
   "execution_count": null,
   "metadata": {},
   "outputs": [],
   "source": [
    "num_rows=df.shape[0]\n",
    "num_col=df.shape[1]\n",
    "print('The number of rows {}'.format(num_rows))\n",
    "print('The number of columns {}'.format(num_col))\n"
   ]
  },
  {
   "cell_type": "code",
   "execution_count": null,
   "metadata": {},
   "outputs": [],
   "source": [
    "df.info()"
   ]
  },
  {
   "cell_type": "code",
   "execution_count": null,
   "metadata": {},
   "outputs": [],
   "source": [
    "df.describe()"
   ]
  },
  {
   "cell_type": "code",
   "execution_count": null,
   "metadata": {},
   "outputs": [],
   "source": [
    "df.isnull().sum()"
   ]
  },
  {
   "cell_type": "code",
   "execution_count": null,
   "metadata": {},
   "outputs": [],
   "source": [
    "country=df['State_UT'].unique()"
   ]
  },
  {
   "cell_type": "code",
   "execution_count": null,
   "metadata": {},
   "outputs": [],
   "source": [
    "len(df['State_UT'].unique())"
   ]
  },
  {
   "cell_type": "code",
   "execution_count": null,
   "metadata": {},
   "outputs": [],
   "source": [
    "all_columns=df.columns.to_list()\n",
    "all_columns"
   ]
  },
  {
   "cell_type": "code",
   "execution_count": null,
   "metadata": {},
   "outputs": [],
   "source": [
    "# To remove the NR and other null value\n",
    "imputer=SimpleImputer(missing_values='NR', strategy='constant', fill_value=0, )\n",
    "imp=SimpleImputer(missing_values='@', strategy='constant',fill_value=0)"
   ]
  },
  {
   "cell_type": "code",
   "execution_count": null,
   "metadata": {},
   "outputs": [],
   "source": [
    "df=imputer.fit_transform(df)\n",
    "df=pd.DataFrame(imp.fit_transform(df),columns=all_columns)"
   ]
  },
  {
   "cell_type": "code",
   "execution_count": null,
   "metadata": {},
   "outputs": [],
   "source": [
    "df.info()"
   ]
  },
  {
   "cell_type": "code",
   "execution_count": null,
   "metadata": {},
   "outputs": [],
   "source": [
    "df[ 'Primary_Boys']=df[ 'Primary_Boys'].astype(np.float32)\n",
    "df['Primary_Girls']=df['Primary_Girls'].astype(np.float32)\n",
    "df['Upper_Primary_Boys']=df['Upper_Primary_Boys'].astype(np.float32)\n",
    "df['Upper_Primary_Girls']=df['Upper_Primary_Girls'].astype(np.float32)\n",
    "df['Secondary_Boys']=df['Secondary_Boys'].astype(np.float32)\n",
    "df['Secondary_Girls']=df['Secondary_Girls'].astype(np.float32)\n",
    "df['Higher_Secondary_Boys']=df['Higher_Secondary_Boys'].astype(np.float32)\n",
    "df['Higher_Secondary_Girls']=df['Higher_Secondary_Girls'].astype(np.float32)"
   ]
  },
  {
   "cell_type": "code",
   "execution_count": null,
   "metadata": {},
   "outputs": [],
   "source": [
    "df.info()"
   ]
  },
  {
   "cell_type": "code",
   "execution_count": null,
   "metadata": {},
   "outputs": [],
   "source": [
    "years=df['Year'].unique().tolist()\n",
    "years"
   ]
  },
  {
   "cell_type": "code",
   "execution_count": null,
   "metadata": {},
   "outputs": [],
   "source": [
    "df.groupby('Year')[[ 'Primary_Boys','Primary_Girls']].sum().plot(kind='bar',figsize=(20,5),ylabel='Gross Enrollment',title='Comparision of Primary Boys and Primary Girls of Gross Enrollment 2013 to 2016',rot=45)"
   ]
  },
  {
   "cell_type": "code",
   "execution_count": null,
   "metadata": {},
   "outputs": [],
   "source": [
    "df.groupby('Year')[['Upper_Primary_Boys','Upper_Primary_Girls']].sum().plot(kind='bar',figsize=(20,5),ylabel='Gross Enrollment',title='Comparision of Upper Primary Boys and Upper Primary Girls of Gross Enrollment 2013 to 2016',rot=45)"
   ]
  },
  {
   "cell_type": "code",
   "execution_count": null,
   "metadata": {},
   "outputs": [],
   "source": [
    "df.groupby('Year')[[ 'Secondary_Boys','Secondary_Girls']].sum().plot(kind='bar',figsize=(20,5),ylabel='Gross Enrollment',title='Comparision of Secondary Boys and Secondary Girls of Gross Enrollment 2013 to 2016',rot=45)"
   ]
  },
  {
   "cell_type": "code",
   "execution_count": null,
   "metadata": {},
   "outputs": [],
   "source": [
    "df.groupby('Year')[['Higher_Secondary_Boys','Higher_Secondary_Girls']].sum().plot(kind='bar',figsize=(20,5),ylabel='Gross Enrollment',title='Comparision of Higher Secondary Boys and Higher Secondary Girls of Gross Enrollment 2013 to 2016',rot=45)"
   ]
  },
  {
   "cell_type": "code",
   "execution_count": null,
   "metadata": {},
   "outputs": [],
   "source": []
  }
 ],
 "metadata": {
  "kernelspec": {
   "display_name": "Python 3",
   "language": "python",
   "name": "python3"
  },
  "language_info": {
   "codemirror_mode": {
    "name": "ipython",
    "version": 3
   },
   "file_extension": ".py",
   "mimetype": "text/x-python",
   "name": "python",
   "nbconvert_exporter": "python",
   "pygments_lexer": "ipython3",
   "version": "3.10.10"
  },
  "orig_nbformat": 4,
  "vscode": {
   "interpreter": {
    "hash": "1d6ae3f3a4e9b0c69bb93997a736811b4ab6f7b9171ebc477b73baed7fd6da38"
   }
  }
 },
 "nbformat": 4,
 "nbformat_minor": 2
}

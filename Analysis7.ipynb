{
 "cells": [
  {
   "cell_type": "code",
   "execution_count": null,
   "metadata": {},
   "outputs": [],
   "source": [
    "import pandas as pd\n",
    "import numpy as np\n",
    "import matplotlib.pyplot as plt"
   ]
  },
  {
   "cell_type": "code",
   "execution_count": null,
   "metadata": {},
   "outputs": [],
   "source": [
    "pd.set_option('display.max_columns',None)"
   ]
  },
  {
   "cell_type": "code",
   "execution_count": null,
   "metadata": {},
   "outputs": [],
   "source": [
    "df=pd.read_csv('data/schools-with-girls-toilet-2013-2016.csv')"
   ]
  },
  {
   "cell_type": "code",
   "execution_count": null,
   "metadata": {},
   "outputs": [],
   "source": [
    "df.head(5)"
   ]
  },
  {
   "cell_type": "code",
   "execution_count": null,
   "metadata": {},
   "outputs": [],
   "source": [
    "df.info()"
   ]
  },
  {
   "cell_type": "code",
   "execution_count": null,
   "metadata": {},
   "outputs": [],
   "source": [
    "df.describe()"
   ]
  },
  {
   "cell_type": "code",
   "execution_count": null,
   "metadata": {},
   "outputs": [],
   "source": [
    "df.isnull().sum()"
   ]
  },
  {
   "cell_type": "code",
   "execution_count": null,
   "metadata": {},
   "outputs": [],
   "source": [
    "df['State_UT'].unique()"
   ]
  },
  {
   "cell_type": "code",
   "execution_count": null,
   "metadata": {},
   "outputs": [],
   "source": [
    "len(df['State_UT'].unique())"
   ]
  },
  {
   "cell_type": "code",
   "execution_count": null,
   "metadata": {},
   "outputs": [],
   "source": [
    "all_columns=df.columns.to_list()\n",
    "all_columns"
   ]
  },
  {
   "cell_type": "code",
   "execution_count": null,
   "metadata": {},
   "outputs": [],
   "source": [
    "categ=all_columns[2:]\n",
    "categ"
   ]
  },
  {
   "cell_type": "code",
   "execution_count": null,
   "metadata": {},
   "outputs": [],
   "source": [
    "df['year'].value_counts()"
   ]
  },
  {
   "cell_type": "code",
   "execution_count": null,
   "metadata": {},
   "outputs": [],
   "source": [
    "years=df['year'].unique().tolist()\n",
    "years"
   ]
  },
  {
   "cell_type": "code",
   "execution_count": null,
   "metadata": {},
   "outputs": [],
   "source": [
    "df.groupby('year')[['Primary_Only','U_Primary_Only']].sum().plot(kind='bar',figsize=(20,5),ylabel='Toilet percent',title='Comparision of Primary and Upper Primary in Percentage of schools with Girls Toilet over 2013 to 2016',rot=45)"
   ]
  },
  {
   "cell_type": "code",
   "execution_count": null,
   "metadata": {},
   "outputs": [],
   "source": [
    "df.groupby('year')[['Sec_Only','HrSec_Only']].sum().plot(kind='bar',figsize=(20,5),ylabel='Toilet percent',title='Comparision of Secondary and HrSecondary in Percentage of schools with Girls Toilet  over 2013 to 2016',rot=45)"
   ]
  },
  {
   "cell_type": "code",
   "execution_count": null,
   "metadata": {},
   "outputs": [],
   "source": [
    "df.groupby('year')[['Primary_with_U_Primary','Primary_with_U_Primary_Sec']].sum().plot(kind='bar',figsize=(20,9),ylabel='Toilet percent',title='Comparision of Primary with Upper Primary and Primary with Upper Primary Seccondary in Percentage of schools with Girls Toilet  over 2013 to 2016',rot=45)"
   ]
  },
  {
   "cell_type": "code",
   "execution_count": null,
   "metadata": {},
   "outputs": [],
   "source": [
    "df.groupby('year')[['Primary_with_U_Primary_Sec_HrSec','U_Primary_With_Sec_HrSec']].sum().plot(kind='bar',figsize=(20,10),ylabel='Toilet percent',title='Comparision of  Percentage of schools with Girls Toilet  over 2013 to 2016',rot=45)"
   ]
  },
  {
   "cell_type": "code",
   "execution_count": null,
   "metadata": {},
   "outputs": [],
   "source": [
    "df.groupby('year')[['U_Primary_With_Sec','Sec_with_HrSec.']].sum().plot(kind='bar',figsize=(20,10),ylabel='Toilet percent',title='Comparision of Upper Primary With Secondary and Secondary with HrSecondary in Percentage of schools with Girls Toilet  over 2013 to 2016',rot=45)"
   ]
  },
  {
   "cell_type": "code",
   "execution_count": null,
   "metadata": {},
   "outputs": [],
   "source": []
  }
 ],
 "metadata": {
  "kernelspec": {
   "display_name": "Python 3",
   "language": "python",
   "name": "python3"
  },
  "language_info": {
   "codemirror_mode": {
    "name": "ipython",
    "version": 3
   },
   "file_extension": ".py",
   "mimetype": "text/x-python",
   "name": "python",
   "nbconvert_exporter": "python",
   "pygments_lexer": "ipython3",
   "version": "3.10.10"
  },
  "orig_nbformat": 4,
  "vscode": {
   "interpreter": {
    "hash": "1d6ae3f3a4e9b0c69bb93997a736811b4ab6f7b9171ebc477b73baed7fd6da38"
   }
  }
 },
 "nbformat": 4,
 "nbformat_minor": 2
}
